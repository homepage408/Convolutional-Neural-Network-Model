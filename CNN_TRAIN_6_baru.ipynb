{
 "cells": [
  {
   "cell_type": "code",
   "execution_count": 1,
   "metadata": {},
   "outputs": [
    {
     "name": "stderr",
     "output_type": "stream",
     "text": [
      "Using TensorFlow backend.\n"
     ]
    }
   ],
   "source": [
    "import tensorflow as tf\n",
    "import keras\n",
    "import os, re, glob, cv2, numpy as np\n",
    "import pandas as pd\n",
    "import matplotlib.pyplot as plt\n",
    "import seaborn as sn\n",
    "from keras.utils import to_categorical\n",
    "from sklearn.model_selection import train_test_split\n",
    "from tensorflow.keras.optimizers import SGD, Adam\n",
    "from keras.models import Sequential\n",
    "from keras.layers import Conv2D, MaxPooling2D, Dropout, Flatten, Dense\n",
    "from keras.callbacks import ModelCheckpoint\n",
    "from sklearn.metrics import classification_report\n",
    "from keras.models import load_model\n",
    "from sklearn.metrics import confusion_matrix, accuracy_score\n",
    "from keras.callbacks import ModelCheckpoint\n"
   ]
  },
  {
   "cell_type": "code",
   "execution_count": 2,
   "metadata": {},
   "outputs": [],
   "source": [
    "physical_devices = tf.config.experimental.list_physical_devices('GPU')\n",
    "tf.config.experimental.set_memory_growth(physical_devices[0], True)"
   ]
  },
  {
   "cell_type": "code",
   "execution_count": 3,
   "metadata": {},
   "outputs": [
    {
     "name": "stdout",
     "output_type": "stream",
     "text": [
      "Jumlah Mobil_Hitam : 500\n",
      "Jumlah Mobil_Putih : 500\n",
      "Jumlah Mobil_Silver : 500\n",
      "Jumlah Mobil_Abu_Abu : 500\n"
     ]
    }
   ],
   "source": [
    "dirs = os.listdir('input2/train') \n",
    "label = 0\n",
    "im_arr = []\n",
    "lb_arr = []\n",
    "X = []\n",
    "y = []\n",
    "for i in dirs: \n",
    "    count = 0\n",
    "    for pic in glob.glob('input2/train/'+i+'/*'):\n",
    "        im = cv2.imread(pic) \n",
    "        im = cv2.resize(im,(100,100))\n",
    "        im = np.array(im) \n",
    "        count = count + 1\n",
    "        X.append(im)\n",
    "        y.append(label)\n",
    "        if(count <= 10): \n",
    "            im_arr.append({str(i):im})\n",
    "    print(\"Jumlah \"+str(i)+\" : \"+str(count))\n",
    "    label = label + 1\n",
    "    lb_arr.append(i)\n",
    "X_train = np.array(X)\n",
    "y_train = np.array(y)"
   ]
  },
  {
   "cell_type": "code",
   "execution_count": 4,
   "metadata": {},
   "outputs": [],
   "source": [
    "x_train,x_test,y_train,y_test = train_test_split(X_train,y_train, test_size=0.20, random_state=20)\n",
    "x_train = x_train.astype('float64')\n",
    "x_test = x_test.astype('float64')\n",
    "x_train /= 255\n",
    "x_test /= 255\n",
    "y_train = to_categorical(y_train)\n",
    "y_test = to_categorical(y_test)"
   ]
  },
  {
   "cell_type": "code",
   "execution_count": 5,
   "metadata": {},
   "outputs": [
    {
     "name": "stdout",
     "output_type": "stream",
     "text": [
      "(1600, 100, 100, 3)\n",
      "(1600, 4)\n",
      "(400, 100, 100, 3)\n",
      "(400, 4)\n"
     ]
    }
   ],
   "source": [
    "print(x_train.shape)\n",
    "print(y_train.shape)\n",
    "print(x_test.shape)\n",
    "print(y_test.shape)"
   ]
  },
  {
   "cell_type": "code",
   "execution_count": 6,
   "metadata": {},
   "outputs": [],
   "source": [
    "# Model\n",
    "def convModel():\n",
    "    model = Sequential()\n",
    "    model.add(Conv2D(32, kernel_size=(3, 3),activation='relu',input_shape=(100,100,3))) \n",
    "#     model.add(Conv2D(32, (3, 3), activation='relu')) \n",
    "    model.add(MaxPooling2D(pool_size=(2,2))) \n",
    "\n",
    "    model.add(Conv2D(64, (3, 3), activation='relu')) \n",
    "#     model.add(Conv2D(64, (3, 3), activation='relu')) \n",
    "    model.add(MaxPooling2D(pool_size=(2,2))) \n",
    "    model.add(Dropout(0.50))\n",
    "\n",
    "    model.add(Conv2D(128, (3, 3), activation='relu')) \n",
    "    model.add(Conv2D(128, (3, 3), activation='relu'))\n",
    "    model.add(MaxPooling2D(pool_size=(2,2)))\n",
    "    model.add(Dropout(0.50))\n",
    "    \n",
    "    model.add(Flatten())\n",
    "    model.add(Dense(128, activation='relu'))\n",
    "    model.add(Dropout(0.20))\n",
    "    model.add(Dense(64,activation='relu'))\n",
    "    model.add(Dropout(0.50))\n",
    "    model.add(Dense(4, activation='softmax'))\n",
    "    \n",
    "    return model\n"
   ]
  },
  {
   "cell_type": "code",
   "execution_count": 7,
   "metadata": {},
   "outputs": [],
   "source": [
    "ModelCheckpoint = ModelCheckpoint('ModelCheckpoint/model_wight_check_baru_adam_epoch20_best11.h5',  \n",
    "                             monitor='val_loss',\n",
    "                             save_weights_only=False,\n",
    "                             verbose=0,\n",
    "                             save_best_only= True,\n",
    "                             mode='auto')"
   ]
  },
  {
   "cell_type": "code",
   "execution_count": 8,
   "metadata": {},
   "outputs": [
    {
     "name": "stdout",
     "output_type": "stream",
     "text": [
      "Model: \"sequential_1\"\n",
      "_________________________________________________________________\n",
      "Layer (type)                 Output Shape              Param #   \n",
      "=================================================================\n",
      "conv2d_1 (Conv2D)            (None, 98, 98, 32)        896       \n",
      "_________________________________________________________________\n",
      "max_pooling2d_1 (MaxPooling2 (None, 49, 49, 32)        0         \n",
      "_________________________________________________________________\n",
      "conv2d_2 (Conv2D)            (None, 47, 47, 64)        18496     \n",
      "_________________________________________________________________\n",
      "max_pooling2d_2 (MaxPooling2 (None, 23, 23, 64)        0         \n",
      "_________________________________________________________________\n",
      "dropout_1 (Dropout)          (None, 23, 23, 64)        0         \n",
      "_________________________________________________________________\n",
      "conv2d_3 (Conv2D)            (None, 21, 21, 128)       73856     \n",
      "_________________________________________________________________\n",
      "conv2d_4 (Conv2D)            (None, 19, 19, 128)       147584    \n",
      "_________________________________________________________________\n",
      "max_pooling2d_3 (MaxPooling2 (None, 9, 9, 128)         0         \n",
      "_________________________________________________________________\n",
      "dropout_2 (Dropout)          (None, 9, 9, 128)         0         \n",
      "_________________________________________________________________\n",
      "flatten_1 (Flatten)          (None, 10368)             0         \n",
      "_________________________________________________________________\n",
      "dense_1 (Dense)              (None, 128)               1327232   \n",
      "_________________________________________________________________\n",
      "dropout_3 (Dropout)          (None, 128)               0         \n",
      "_________________________________________________________________\n",
      "dense_2 (Dense)              (None, 64)                8256      \n",
      "_________________________________________________________________\n",
      "dropout_4 (Dropout)          (None, 64)                0         \n",
      "_________________________________________________________________\n",
      "dense_3 (Dense)              (None, 4)                 260       \n",
      "=================================================================\n",
      "Total params: 1,576,580\n",
      "Trainable params: 1,576,580\n",
      "Non-trainable params: 0\n",
      "_________________________________________________________________\n",
      "None\n"
     ]
    }
   ],
   "source": [
    "# COMPILE\n",
    "epochs = 20\n",
    "batch_size = 32\n",
    "lrate = 0.0001\n",
    "# lrate=1.0e-4\n",
    "model = convModel()\n",
    "adam = Adam(lr=lrate)\n",
    "model.compile(loss='categorical_crossentropy', optimizer='adam', metrics=['accuracy'])\n",
    "print(model.summary())"
   ]
  },
  {
   "cell_type": "code",
   "execution_count": 9,
   "metadata": {},
   "outputs": [
    {
     "name": "stdout",
     "output_type": "stream",
     "text": [
      "Train on 1600 samples, validate on 400 samples\n",
      "Epoch 1/20\n",
      "1600/1600 [==============================] - 7s 5ms/step - loss: 1.3919 - accuracy: 0.2562 - val_loss: 1.3741 - val_accuracy: 0.3400\n",
      "Epoch 2/20\n",
      "1600/1600 [==============================] - 4s 3ms/step - loss: 1.2732 - accuracy: 0.3981 - val_loss: 1.1337 - val_accuracy: 0.4800\n",
      "Epoch 3/20\n",
      "1600/1600 [==============================] - 4s 3ms/step - loss: 1.1524 - accuracy: 0.4775 - val_loss: 1.1767 - val_accuracy: 0.4700\n",
      "Epoch 4/20\n",
      "1600/1600 [==============================] - 5s 3ms/step - loss: 1.0519 - accuracy: 0.5069 - val_loss: 1.1260 - val_accuracy: 0.4925\n",
      "Epoch 5/20\n",
      "1600/1600 [==============================] - 5s 3ms/step - loss: 1.0036 - accuracy: 0.5506 - val_loss: 0.9711 - val_accuracy: 0.5575\n",
      "Epoch 6/20\n",
      "1600/1600 [==============================] - 5s 3ms/step - loss: 0.9546 - accuracy: 0.5625 - val_loss: 0.8470 - val_accuracy: 0.6200\n",
      "Epoch 7/20\n",
      "1600/1600 [==============================] - 4s 3ms/step - loss: 0.8711 - accuracy: 0.6194 - val_loss: 0.9534 - val_accuracy: 0.5475\n",
      "Epoch 8/20\n",
      "1600/1600 [==============================] - 4s 3ms/step - loss: 0.8385 - accuracy: 0.6162 - val_loss: 0.8152 - val_accuracy: 0.6525\n",
      "Epoch 9/20\n",
      "1600/1600 [==============================] - 5s 3ms/step - loss: 0.7799 - accuracy: 0.6644 - val_loss: 0.7366 - val_accuracy: 0.6800\n",
      "Epoch 10/20\n",
      "1600/1600 [==============================] - 5s 3ms/step - loss: 0.7284 - accuracy: 0.6837 - val_loss: 0.6690 - val_accuracy: 0.6925\n",
      "Epoch 11/20\n",
      "1600/1600 [==============================] - 5s 3ms/step - loss: 0.7263 - accuracy: 0.6775 - val_loss: 0.6803 - val_accuracy: 0.7150\n",
      "Epoch 12/20\n",
      "1600/1600 [==============================] - 5s 3ms/step - loss: 0.6564 - accuracy: 0.7262 - val_loss: 0.6437 - val_accuracy: 0.7050\n",
      "Epoch 13/20\n",
      "1600/1600 [==============================] - 6s 4ms/step - loss: 0.6519 - accuracy: 0.7225 - val_loss: 0.6372 - val_accuracy: 0.7275\n",
      "Epoch 14/20\n",
      "1600/1600 [==============================] - 5s 3ms/step - loss: 0.6686 - accuracy: 0.7225 - val_loss: 0.6278 - val_accuracy: 0.7375\n",
      "Epoch 15/20\n",
      "1600/1600 [==============================] - 5s 3ms/step - loss: 0.5717 - accuracy: 0.7513 - val_loss: 0.6181 - val_accuracy: 0.7125\n",
      "Epoch 16/20\n",
      "1600/1600 [==============================] - 5s 3ms/step - loss: 0.5922 - accuracy: 0.7456 - val_loss: 0.6431 - val_accuracy: 0.7550\n",
      "Epoch 17/20\n",
      "1600/1600 [==============================] - 6s 4ms/step - loss: 0.5390 - accuracy: 0.7756 - val_loss: 0.6079 - val_accuracy: 0.7325\n",
      "Epoch 18/20\n",
      "1600/1600 [==============================] - 5s 3ms/step - loss: 0.5139 - accuracy: 0.7894 - val_loss: 0.7780 - val_accuracy: 0.6575\n",
      "Epoch 19/20\n",
      "1600/1600 [==============================] - 5s 3ms/step - loss: 0.4827 - accuracy: 0.8031 - val_loss: 0.5926 - val_accuracy: 0.7450\n",
      "Epoch 20/20\n",
      "1600/1600 [==============================] - 4s 3ms/step - loss: 0.4640 - accuracy: 0.8156 - val_loss: 0.7185 - val_accuracy: 0.7300\n"
     ]
    }
   ],
   "source": [
    "history = model.fit(x_train, y_train, \n",
    "                    validation_data=(x_test, y_test), \n",
    "                    epochs=epochs, \n",
    "                    batch_size=batch_size,\n",
    "                    callbacks=[ModelCheckpoint],\n",
    "                    verbose=1)"
   ]
  },
  {
   "cell_type": "code",
   "execution_count": 10,
   "metadata": {},
   "outputs": [
    {
     "name": "stdout",
     "output_type": "stream",
     "text": [
      "Accuracy: 73.00%\n"
     ]
    }
   ],
   "source": [
    "scores = model.evaluate(x_test, y_test, verbose=0)\n",
    "print(\"Accuracy: %.2f%%\" % (scores[1]*100))"
   ]
  },
  {
   "cell_type": "code",
   "execution_count": 11,
   "metadata": {},
   "outputs": [],
   "source": [
    "hist_df = pd.DataFrame(history.history) \n",
    "hist_df.to_excel('History/Val2.xlsx', index=True)"
   ]
  },
  {
   "cell_type": "code",
   "execution_count": 12,
   "metadata": {},
   "outputs": [
    {
     "data": {
      "image/png": "[encoded data removed]",
      "text/plain": [
       "<Figure size 432x288 with 1 Axes>"
      ]
     },
     "metadata": {
      "needs_background": "light"
     },
     "output_type": "display_data"
    },
    {
     "data": {
      "image/png": "[encoded data removed]",
      "text/plain": [
       "<Figure size 432x288 with 1 Axes>"
      ]
     },
     "metadata": {
      "needs_background": "light"
     },
     "output_type": "display_data"
    },
    {
     "data": {
      "text/plain": [
       "<Figure size 432x288 with 0 Axes>"
      ]
     },
     "metadata": {},
     "output_type": "display_data"
    }
   ],
   "source": [
    "loss_train = history.history['loss']\n",
    "loss_val = history.history['val_loss']\n",
    "epochs = range(0,20)\n",
    "plt.plot(epochs, loss_train, 'g', label='Training loss')\n",
    "plt.plot(epochs, loss_val, 'b', label='validation loss')\n",
    "plt.title('Training and Validation loss')\n",
    "plt.xlabel('Epochs')\n",
    "plt.ylabel('Loss')\n",
    "plt.legend()\n",
    "plt.show()\n",
    "plt.savefig('TrainingValidationLoss.jpeg')\n",
    "\n",
    "loss_train = history.history['accuracy']\n",
    "loss_val = history.history['val_accuracy']\n",
    "epochs = range(0,20)\n",
    "plt.plot(epochs, loss_train, 'g', label='Training accuracy')\n",
    "plt.plot(epochs, loss_val, 'b', label='validation accuracy')\n",
    "plt.title('Training and Validation accuracy')\n",
    "plt.xlabel('Epochs')\n",
    "plt.ylabel('Accuracy')\n",
    "plt.legend()\n",
    "plt.show()\n",
    "plt.savefig('TrainingValidationAccuracy.jpeg')"
   ]
  },
  {
   "cell_type": "code",
   "execution_count": 13,
   "metadata": {},
   "outputs": [],
   "source": [
    "# ITERASI X_TEST\n",
    "y_pred = model.predict(x_test)\n",
    "y_prediction_n = []\n",
    "y_test_n = []\n",
    "for i in range(0, len(y_pred)):\n",
    "    max_n = max(y_pred[i])\n",
    "    max_m = max(y_test[i])\n",
    "    index_n = [index_n for index_n, j in enumerate(y_pred[i]) if j == max_n]\n",
    "    index_m = [index_m for index_m, j in enumerate(y_test[i]) if j == max_m]\n",
    "    y_prediction_n.append(index_n)\n",
    "    y_test_n.append(index_m)"
   ]
  },
  {
   "cell_type": "code",
   "execution_count": 14,
   "metadata": {},
   "outputs": [
    {
     "name": "stdout",
     "output_type": "stream",
     "text": [
      "              precision    recall  f1-score   support\n",
      "\n",
      "       Hitam       0.97      0.67      0.79       112\n",
      "       Putih       0.84      0.82      0.83       100\n",
      "      Silver       0.65      0.69      0.67        94\n",
      "         ABU       0.56      0.74      0.64        94\n",
      "\n",
      "    accuracy                           0.73       400\n",
      "   macro avg       0.76      0.73      0.73       400\n",
      "weighted avg       0.77      0.73      0.74       400\n",
      "\n"
     ]
    }
   ],
   "source": [
    "#CLASSIFICATION REPORT\n",
    "print(classification_report(y_test_n, y_prediction_n, target_names=[\"Hitam\",\"Putih\",\"Silver\",\"ABU\"]))"
   ]
  },
  {
   "cell_type": "code",
   "execution_count": 15,
   "metadata": {},
   "outputs": [],
   "source": [
    "y_pred = model.predict_classes(x_test)\n",
    "# y_pred"
   ]
  },
  {
   "cell_type": "code",
   "execution_count": 16,
   "metadata": {},
   "outputs": [],
   "source": [
    "y_test_class = np.argmax(y_test, axis=1)\n",
    "# y_test_class"
   ]
  },
  {
   "cell_type": "code",
   "execution_count": 17,
   "metadata": {},
   "outputs": [
    {
     "name": "stdout",
     "output_type": "stream",
     "text": [
      "0.73\n"
     ]
    },
    {
     "data": {
      "text/plain": [
       "array([[75,  0,  0, 37],\n",
       "       [ 0, 82, 15,  3],\n",
       "       [ 0, 14, 65, 15],\n",
       "       [ 2,  2, 20, 70]])"
      ]
     },
     "execution_count": 17,
     "metadata": {},
     "output_type": "execute_result"
    }
   ],
   "source": [
    "print(accuracy_score(y_test_class, y_pred))\n",
    "confusion_matrix(y_test_class, y_pred)"
   ]
  },
  {
   "cell_type": "code",
   "execution_count": 18,
   "metadata": {},
   "outputs": [
    {
     "data": {
      "text/plain": [
       "<matplotlib.axes._subplots.AxesSubplot at 0x7f688ccca908>"
      ]
     },
     "execution_count": 18,
     "metadata": {},
     "output_type": "execute_result"
    },
    {
     "data": {
      "image/png": "[encoded data removed]",
      "text/plain": [
       "<Figure size 432x288 with 2 Axes>"
      ]
     },
     "metadata": {
      "needs_background": "light"
     },
     "output_type": "display_data"
    }
   ],
   "source": [
    "cm = confusion_matrix(y_test_class, y_pred)\n",
    "sn.heatmap(cm, annot=True, xticklabels=[\"Hitam\",\"Putih\",\"Silver\",\"ABU\"], yticklabels=[\"Hitam\",\"Putih\",\"Silver\",\"ABU\"])"
   ]
  },
  {
   "cell_type": "code",
   "execution_count": 19,
   "metadata": {},
   "outputs": [],
   "source": [
    "# checkpoint_path = 'ModelCheckpoint/model_wight_check.h5'\n",
    "# checkpoint_dir = os.path.dirname(checkpoint_path)\n",
    "# model = load_model(checkpoint_path)\n",
    "# model.load_weights(checkpoint_path)\n",
    "\n",
    "# ModelCheckpoint = ModelCheckpoint(checkpoint_dir,  # model filename\n",
    "#                              monitor='val_loss', # quantity to monitor\n",
    "#                              save_weights_only=False,\n",
    "#                              verbose=0, # verbosity - 0 or 1\n",
    "#                              save_best_only= True, # The latest best model will not be overwritten\n",
    "#                              mode='auto') # The decision to overwrite model is made \n",
    "                                     \n",
    "# history = model.fit(x_train, y_train, \n",
    "#                     validation_data=(x_test, y_test), \n",
    "#                     epochs=20, \n",
    "#                     batch_size=16,\n",
    "#                     callbacks=[ModelCheckpoint],\n",
    "#                     verbose=1)\n",
    "\n",
    "\n",
    "# loss_train = history.history['loss']\n",
    "# loss_val = history.history['val_loss']\n",
    "# epochs = range(0,20)\n",
    "# plt.plot(epochs, loss_train, 'g', label='Training loss')\n",
    "# plt.plot(epochs, loss_val, 'b', label='validation loss')\n",
    "# plt.title('Training and Validation loss')\n",
    "# plt.xlabel('Epochs')\n",
    "# plt.ylabel('Loss')\n",
    "# plt.legend()\n",
    "# plt.show()\n",
    "# plt.savefig('TrainingValidationLoss.png')\n",
    "\n",
    "# loss_train = history.history['accuracy']\n",
    "# loss_val = history.history['val_accuracy']\n",
    "# epochs = range(0,20)\n",
    "# plt.plot(epochs, loss_train, 'g', label='Training accuracy')\n",
    "# plt.plot(epochs, loss_val, 'b', label='validation accuracy')\n",
    "# plt.title('Training and Validation accuracy')\n",
    "# plt.xlabel('Epochs')\n",
    "# plt.ylabel('Accuracy')\n",
    "# plt.legend()\n",
    "# plt.show()\n",
    "# plt.savefig('TrainingValidationAccuracy.png')\n",
    "\n",
    "# model.load_weights(checkpoint_path)\n",
    "# loss,acc = model.evaluate(x_test,  y_test, verbose=2)\n",
    "# print(\"Restored model, accuracy: {:5.2f}%\".format(100*acc))"
   ]
  },
  {
   "cell_type": "code",
   "execution_count": 20,
   "metadata": {},
   "outputs": [],
   "source": [
    "# y_pred = model.predict(x_test)\n",
    "# # len(y_pred)\n",
    "# # ITERASI X_TEST\n",
    "# y_prediction_n = []\n",
    "# y_test_n = []\n",
    "# for i in range(0, len(y_pred)):\n",
    "#     max_n = max(y_pred[i])\n",
    "#     max_m = max(y_test[i])\n",
    "#     index_n = [index_n for index_n, j in enumerate(y_pred[i]) if j == max_n]\n",
    "#     index_m = [index_m for index_m, j in enumerate(y_test[i]) if j == max_m]\n",
    "#     y_prediction_n.append(index_n)\n",
    "#     y_test_n.append(index_m)\n",
    "    \n",
    "# #CLASSIFICATION REPORT\n",
    "# print(classification_report(y_test_n, y_prediction_n, target_names=[\"Hitam\",\"Putih\",\"Silver\",\"ABU\"]))\n",
    "# y_pred = model.predict_classes(x_test)\n",
    "# y_test_class = np.argmax(y_test, axis=1)\n",
    "# print(accuracy_score(y_test_class, y_pred))\n",
    "# confusion_matrix(y_test_class, y_pred)\n",
    "# cm = confusion_matrix(y_test_class, y_pred)\n",
    "# sn.heatmap(cm, annot=True, xticklabels=[\"Hitam\",\"Putih\",\"Silver\",\"ABU\"], yticklabels=[\"Hitam\",\"Putih\",\"Silver\",\"ABU\"])\n",
    "\n"
   ]
  }
 ],
 "metadata": {
  "kernelspec": {
   "display_name": "Python 3",
   "language": "python",
   "name": "python3"
  },
  "language_info": {
   "codemirror_mode": {
    "name": "ipython",
    "version": 3
   },
   "file_extension": ".py",
   "mimetype": "text/x-python",
   "name": "python",
   "nbconvert_exporter": "python",
   "pygments_lexer": "ipython3",
   "version": "3.8.5"
  }
 },
 "nbformat": 4,
 "nbformat_minor": 4
}
